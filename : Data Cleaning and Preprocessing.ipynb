{
  "nbformat": 4,
  "nbformat_minor": 0,
  "metadata": {
    "colab": {
      "provenance": [],
      "authorship_tag": "ABX9TyPzxYgEbqMyfxAr+hWqgirC",
      "include_colab_link": true
    },
    "kernelspec": {
      "name": "python3",
      "display_name": "Python 3"
    },
    "language_info": {
      "name": "python"
    }
  },
  "cells": [
    {
      "cell_type": "markdown",
      "metadata": {
        "id": "view-in-github",
        "colab_type": "text"
      },
      "source": [
        "<a href=\"https://colab.research.google.com/github/prateek392003/MediLens/blob/main/%3A%20Data%20Cleaning%20and%20Preprocessing.ipynb\" target=\"_parent\"><img src=\"https://colab.research.google.com/assets/colab-badge.svg\" alt=\"Open In Colab\"/></a>"
      ]
    },
    {
      "cell_type": "code",
      "execution_count": 2,
      "metadata": {
        "colab": {
          "base_uri": "https://localhost:8080/"
        },
        "id": "zcIsFiEQ7bOB",
        "outputId": "4967e1d8-091e-4c58-a1c9-03d6a9fbdd77"
      },
      "outputs": [
        {
          "output_type": "stream",
          "name": "stdout",
          "text": [
            "Missing Values:\n",
            " Customer_ID    0\n",
            "Name           1\n",
            "Gender         0\n",
            "Age            1\n",
            "Country        1\n",
            "Join Date      0\n",
            "Email          0\n",
            "dtype: int64\n",
            "✅ Cleaning Done!\n",
            "Final Cleaned Data:\n",
            "   customer_id   name gender  age country  join_date              email\n",
            "0        C001  Alice      f   25     Usa 2020-01-01  alice@example.com\n",
            "1        C002    Bob      m   30   India 2020-01-02    bob@example.com\n",
            "3        C004  Alice      f   25   India 2020-01-01  alice@example.com\n"
          ]
        }
      ],
      "source": [
        "import pandas as pd\n",
        "\n",
        "df = pd.read_csv(\"raw_dataset.csv\")\n",
        "\n",
        "print(\"Missing Values:\\n\", df.isnull().sum())\n",
        "df = df.dropna()\n",
        "\n",
        "#Remove duplicate\n",
        "df = df.drop_duplicates()\n",
        "\n",
        "#Standardize text\n",
        "df['Gender'] = df['Gender'].str.strip().str.lower().replace({'female': 'f', 'male': 'm'})\n",
        "df['Country'] = df['Country'].str.strip().str.title()\n",
        "\n",
        "# Convert date formats to dd-mm-yyyy\n",
        "df['Join Date'] = pd.to_datetime(df['Join Date'], errors='coerce').dt.strftime('%d-%m-%Y')\n",
        "\n",
        "# Rename columns to be lowercase\n",
        "df.columns = df.columns.str.strip().str.lower().str.replace(' ', '_')\n",
        "\n",
        "# Fix data types\n",
        "df['age'] = df['age'].astype(int)\n",
        "df['join_date'] = pd.to_datetime(df['join_date'], format='%d-%m-%Y')\n",
        "\n",
        "# Save the cleaned dataset\n",
        "df.to_csv(\"cleaned_dataset.csv\", index=False)\n",
        "\n",
        "# Summary\n",
        "print(\"✅ Cleaning Done!\\nFinal Cleaned Data:\\n\", df)\n"
      ]
    }
  ]
}